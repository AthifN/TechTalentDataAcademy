{
 "cells": [
  {
   "cell_type": "markdown",
   "metadata": {},
   "source": [
    "Write a program that allows you to enter 4 numbers\n",
    "and stores them in a file called “Numbers”\n",
    "•3\n",
    "•45\n",
    "•83\n",
    "•21\n",
    "Have a go at ‘w’ ‘r’ ‘a’"
   ]
  },
  {
   "cell_type": "code",
   "execution_count": null,
   "metadata": {},
   "outputs": [],
   "source": [
    "#write\n",
    "my_file = open(\"Numbers.txt\", \"w\")\n",
    "    \n",
    "list = [8, 45, 83, 21]\n",
    "for i in list:\n",
    "    my_file.write(str(i))\n",
    "    my_file.write('\\n')\n",
    "\n",
    "my_file.close()"
   ]
  },
  {
   "cell_type": "code",
   "execution_count": null,
   "metadata": {},
   "outputs": [],
   "source": [
    "#read\n",
    "with open (\"Numbers.txt\", \"r\") as my_file:\n",
    "    data = my_file.read()\n",
    "my_file.close()\n",
    "\n",
    "print(data)"
   ]
  },
  {
   "cell_type": "code",
   "execution_count": null,
   "metadata": {},
   "outputs": [],
   "source": [
    "#append\n",
    "my_file = open(\"Numbers.txt\", \"a\")\n",
    "\n",
    "my_file.write(\"\\n\")\n",
    "my_file.write(\"Where has it gone?\")\n",
    "\n",
    "my_file.close()"
   ]
  },
  {
   "cell_type": "markdown",
   "metadata": {},
   "source": [
    "Write a program to ask as student for their percentage mark and convert this to a grade.\n",
    "\n",
    "The conversion will be done in a function called mark_grade.\n",
    "\n",
    "•Ask the user for their target grade and print this with their\n",
    "mark\n",
    "•If their target grade > exam grade display a suitable\n",
    "message\n",
    "•If their target grade = exam grade display a suitable\n",
    "message\n",
    "•If their target grade < exam grade display a suitable\n",
    "message"
   ]
  },
  {
   "cell_type": "code",
   "execution_count": null,
   "metadata": {},
   "outputs": [],
   "source": [
    "def mark_grade(gradepercent, targetgrade):\n",
    "    if gradepercent >= 90:\n",
    "        print(\"You have achieved an A*.\")\n",
    "    elif 90> gradepercent >= 80:\n",
    "        print(\"You have achieved an A.\")\n",
    "    elif 80> gradepercent >= 70:\n",
    "        print(\"You have achieved a B.\")\n",
    "    elif 70> gradepercent >= 60:\n",
    "        print(\"You have achieved a C.\")\n",
    "    elif 60> gradepercent >= 50:\n",
    "        print(\"You have achieved a D.\")\n",
    "    else:\n",
    "        print(\"You have achieved an F.\")\n",
    "\n",
    "    if targetgrade == \"A*\" or \"a*\":\n",
    "        gradeboundarymin = 90\n",
    "        gradeboundarymax = 100\n",
    "        if gradeboundarymin>gradepercent:\n",
    "                print(\"You have not achieved your target.\")  \n",
    "        if gradeboundarymin==gradepercent:\n",
    "                print(\"You have achieved your target.\")\n",
    "    elif targetgrade == \"A\" or 'a':\n",
    "        gradeboundarymin = 80\n",
    "        gradeboundarymax = 90\n",
    "        if gradeboundarymin>gradepercent:\n",
    "                print(\"You have not achieved your target.\")  \n",
    "        if gradeboundarymin==gradepercent:\n",
    "                print(\"You have achieved your target.\")\n",
    "        if gradeboundarymax<gradepercent:\n",
    "                print(\"You have exceeded your target.\")\n",
    "    elif targetgrade == \"B\" or 'b':\n",
    "        gradeboundarymin = 70\n",
    "        gradeboundarymax = 80\n",
    "        if gradeboundarymin>gradepercent:\n",
    "                print(\"You have not achieved your target.\")  \n",
    "        if gradeboundarymin==gradepercent:\n",
    "                print(\"You have achieved your target.\")\n",
    "        if gradeboundarymax<gradepercent:\n",
    "                print(\"You have exceeded your target.\")\n",
    "    elif targetgrade == \"C\" or 'c':\n",
    "        gradeboundarymin = 60\n",
    "        gradeboundarymax = 70\n",
    "        if gradeboundarymin>gradepercent:\n",
    "                print(\"You have not achieved your target.\")  \n",
    "        if gradeboundarymin==gradepercent:\n",
    "                print(\"You have achieved your target.\")\n",
    "        if gradeboundarymax<gradepercent:\n",
    "                print(\"You have exceeded your target.\")\n",
    "    elif targetgrade == \"D\" or 'd':\n",
    "        gradeboundarymin = 50\n",
    "        gradeboundarymax = 60\n",
    "        if gradeboundarymin>gradepercent:\n",
    "                print(\"You have not achieved your target\")  \n",
    "        if gradeboundarymin==gradepercent:\n",
    "                print(\"You have achieved your target.\")\n",
    "        if gradeboundarymax<gradepercent:\n",
    "                print(\"You have exceeded your target.\")\n",
    "    elif targetgrade == \"F\" or 'f':\n",
    "        gradeboundarymin = 0\n",
    "        gradeboundarymax = 50  \n",
    "        if gradeboundarymin==gradepercent:\n",
    "                print(\"You have failed...you aimed for this?\")\n",
    "        if gradeboundarymax<gradepercent:\n",
    "                print(\"You have exceeded your target.\")            \n",
    "    else:\n",
    "        print(\"Please enter a valid target. Choose from A*, A, B, C, D, or F.\")\n",
    "\n",
    "gradepercent = float(input(\"Enter the percentage you achieved to see your grade\"))\n",
    "targetgrade = input(\"what grade are you aiming for?\")\n",
    "\n",
    "mark_grade(gradepercent, targetgrade)\n",
    "\n"
   ]
  },
  {
   "cell_type": "markdown",
   "metadata": {},
   "source": [
    "Create a 1D array of numbers from 0 to 9\n"
   ]
  },
  {
   "cell_type": "code",
   "execution_count": null,
   "metadata": {},
   "outputs": [],
   "source": [
    "import numpy as np\n",
    "array = np.array([range(0,10)])\n",
    "print(array)"
   ]
  },
  {
   "cell_type": "markdown",
   "metadata": {},
   "source": [
    "Create a 3×3 NumPy array of all Boolean value Trues"
   ]
  },
  {
   "cell_type": "code",
   "execution_count": null,
   "metadata": {},
   "outputs": [],
   "source": [
    "import numpy as np\n",
    "np.full((3,3), True, dtype =bool)"
   ]
  },
  {
   "cell_type": "markdown",
   "metadata": {},
   "source": [
    "Extract all odd numbers from array of 1 10"
   ]
  },
  {
   "cell_type": "code",
   "execution_count": null,
   "metadata": {},
   "outputs": [],
   "source": [
    "import numpy as np\n",
    "array = np.arange(1, 11, 1)\n",
    "\n",
    "print(array)\n",
    "for i in range (len(array)):\n",
    "    if(array[i]%2!=0):\n",
    "        print(array[i])\n",
    "\n",
    "\n",
    "\n"
   ]
  },
  {
   "cell_type": "markdown",
   "metadata": {},
   "source": [
    "Replace all odd numbers in an array of 1 10 with the value 1"
   ]
  },
  {
   "cell_type": "code",
   "execution_count": null,
   "metadata": {},
   "outputs": [],
   "source": [
    "import numpy as np\n",
    "array = np.arange(1, 11, 1)\n",
    "\n",
    "for i in range (len(array)):\n",
    "    if(i%2==1):\n",
    "        array[i] = 1\n",
    "\n",
    "print(array)"
   ]
  },
  {
   "cell_type": "markdown",
   "metadata": {},
   "source": [
    "Convert a 1D array to a 2D array with 2 rows"
   ]
  },
  {
   "cell_type": "code",
   "execution_count": null,
   "metadata": {},
   "outputs": [],
   "source": [
    "import numpy as np\n",
    "array = np.array([range(1,11)])\n",
    "\n",
    "newArray = array.reshape(2,5)\n",
    "\n",
    "print(newArray)"
   ]
  },
  {
   "cell_type": "markdown",
   "metadata": {},
   "source": [
    "Create two arrays a and b, stack these two arrays vertically use the np.dot and\n",
    "np.sum to calculate totals"
   ]
  },
  {
   "cell_type": "code",
   "execution_count": null,
   "metadata": {},
   "outputs": [],
   "source": [
    "import numpy as np\n",
    "a = np.arange(1,10).reshape(3,3)\n",
    "b = np.arange(1,10).reshape(3,3)\n",
    "print(np.vstack((a,b)))\n",
    "\n",
    "dot=np.dot(a,b)\n",
    "print(dot)\n",
    "\n",
    "sum = np.sum(dot)\n",
    "print(sum)"
   ]
  },
  {
   "cell_type": "markdown",
   "metadata": {},
   "source": [
    "Create the following pattern without hardcoding. Use only NumPy functions\n",
    "\n",
    "#>array([1,1,1,2,2,2,3,3,3,1,2,3,1,2,3,1,2,3])"
   ]
  },
  {
   "cell_type": "code",
   "execution_count": null,
   "metadata": {},
   "outputs": [],
   "source": [
    "import numpy as np\n",
    "\n",
    "ones = np.ones(3)\n",
    "\n",
    "\n",
    "twos = ones + 1\n",
    "\n",
    "\n",
    "threes = ones + 2\n",
    "\n",
    "\n",
    "seq = np.arange(1,4,1)\n",
    "\n",
    "\n",
    "array1 = np.array([ones, twos, threes, seq, seq, seq])\n",
    "\n",
    "\n",
    "linarray1 = array1.reshape(1, 18)\n",
    "print(linarray1)"
   ]
  },
  {
   "cell_type": "markdown",
   "metadata": {},
   "source": [
    "In two arrays a ( 1,2,3,4,5) and b ( 4,5,6,7,8,9) remove all repeating items present in array b"
   ]
  },
  {
   "cell_type": "code",
   "execution_count": null,
   "metadata": {},
   "outputs": [],
   "source": [
    "import numpy as np\n",
    "\n",
    "a = np.array([1, 2, 3, 4, 5])\n",
    "b = np.array([4, 5, 6, 7, 8, 9])\n",
    "\n",
    "new_b = [i for i in b if not i in a]\n",
    "\n",
    "print(new_b)    \n"
   ]
  },
  {
   "cell_type": "markdown",
   "metadata": {},
   "source": [
    "Get all items between 3 and 7 from a and b and sum them together"
   ]
  },
  {
   "cell_type": "code",
   "execution_count": null,
   "metadata": {},
   "outputs": [],
   "source": [
    "import numpy as np\n",
    "\n",
    "a = np.array([1, 2, 3, 4, 5])\n",
    "b = np.array([4, 5, 6, 7, 8, 9])\n",
    "\n",
    "new_a = a[(a>=3)&(a<=5)]\n",
    "new_b = b[(b>=4)&(b<7)]\n",
    "\n",
    "\n",
    "print(new_a)\n",
    "print(new_b)\n",
    "\n",
    "\n",
    "\n",
    "#wip"
   ]
  }
 ],
 "metadata": {
  "interpreter": {
   "hash": "1bd54135158e67f2b25c538cbf3866348208488fc0dd82563178f75525b7f203"
  },
  "kernelspec": {
   "display_name": "Python 3.9.9 64-bit (windows store)",
   "language": "python",
   "name": "python3"
  },
  "language_info": {
   "codemirror_mode": {
    "name": "ipython",
    "version": 3
   },
   "file_extension": ".py",
   "mimetype": "text/x-python",
   "name": "python",
   "nbconvert_exporter": "python",
   "pygments_lexer": "ipython3",
   "version": "3.10.1"
  },
  "orig_nbformat": 4
 },
 "nbformat": 4,
 "nbformat_minor": 2
}
