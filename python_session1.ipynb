{
 "cells": [
  {
   "cell_type": "code",
   "execution_count": null,
   "metadata": {},
   "outputs": [],
   "source": [
    "#Task 1 \n",
    "#Write a program that does the following:\n",
    "#a) Stores a random number (1-10) in a variable\n",
    "#b) Asks a user for their name and stores this in a variable.\n",
    "#c) Asks a user to guess the number between 1 and 10.\n",
    "#d) Tells the user whether they have guessed correctly.\n",
    "\n",
    "#store random variable\n",
    "\n",
    "import random\n",
    "random_num = int(random.randint(1,10))\n",
    "\n",
    "#username\n",
    "\n",
    "username= input(\"(Enter your name)\")\n",
    "\n",
    "#user guess number\n",
    "\n",
    "user_input = int(input (\"Guess the number between 1 and 10\"))\n",
    "\n",
    "#is the user correct?\n",
    "\n",
    "print(\"Your guess:\")\n",
    "print(str(user_input))\n",
    "print(\"Correct answer:\")\n",
    "print(str(random_num))\n",
    "\n",
    "if random_num == user_input:\n",
    "    print (\"Well done!\")\n",
    "else:\n",
    "    print (\"Better luck next time!\")"
   ]
  },
  {
   "cell_type": "code",
   "execution_count": null,
   "metadata": {},
   "outputs": [],
   "source": [
    "#Task 2\n",
    "#Write a program that asks a user for their favourite number\n",
    "#between 1 and 100 and then tells them a joke based on the number. \n",
    "# You should use a minimum of 3 jokes.\n",
    "\n",
    "FavNum = int(input(\"Between 1 and 100, what's your favourite number?\"))\n",
    "\n",
    "if 33>FavNum>=1:\n",
    "    print(\"Did you know you can buy carbon and iron at the cost of just one alloy? What a steel.\")\n",
    "elif 66>FavNum>=33:\n",
    "    print(\"What do you call a cow that's just had a baby? De-calf-inated\")\n",
    "elif 100>=FavNum>=66:\n",
    "    print(\"A sandwich walks into a bar. The bartender says, 'Sorry, we don't serve food here'.\")"
   ]
  },
  {
   "cell_type": "code",
   "execution_count": null,
   "metadata": {},
   "outputs": [],
   "source": [
    "#Task 3\n",
    "#Write a program that allows user to enter their favourite starter,\n",
    "#main course, dessert and drink.\n",
    "\n",
    "#Concatenate these and output a message which says –“Your favourite\n",
    "#meal is  .........with a glass of....”\n",
    "\n",
    "FavStarter = input(\"What's your favourite starter?\")\n",
    "FavMain = input(\"What's your favourite main meal?\")\n",
    "FavDes = input(\"What's your favourite dessert?\")\n",
    "FavDrink = input(\"What's your favourite drink?\")\n",
    "\n",
    "print(\"Your favourite meal is \" + FavStarter + \", \" + FavMain + \", and \" + FavDes + \" with a glass of \" +FavDrink)"
   ]
  },
  {
   "cell_type": "code",
   "execution_count": null,
   "metadata": {},
   "outputs": [],
   "source": [
    "#Task 4\n",
    "#A motorbike costs £2000 and loses 10% of its value every year. \n",
    "# Using a loop, print the value of the bike every following year until \n",
    "# it falls below £1000.\n",
    "\n",
    "BikeVal = 2000\n",
    "while BikeVal >= 1000:\n",
    "    print(\"£\", BikeVal)\n",
    "    BikeVal -= BikeVal*0.1"
   ]
  },
  {
   "cell_type": "code",
   "execution_count": null,
   "metadata": {},
   "outputs": [],
   "source": [
    "#Task 5\n",
    "#Write a program which will ask for two numbers from a user. \n",
    "# Then offer a menu to the user giving them a choice of operator:\n",
    "# e.g. –Enter “a” if you want to add “b” if you want to subtract\n",
    "# Include +, -, /, *, ** square (to the power of). \n",
    "# Once the user has selected which operator they wish to use, \n",
    "# perform the calculation.\n",
    "\n",
    "num1 = float(input(\"Choose a number\"))\n",
    "num2 = float(input(\"Choose another number\"))\n",
    "\n",
    "Operator = input(\"Enter 'a' to add, 'b' to subtract, 'c' to divide the first number by the second, 'd' to multiply, or 'e' to exponentiate your first number by the second\")\n",
    "\n",
    "if Operator == \"a\":     #addition\n",
    "    print(num1 + num2)  \n",
    "elif Operator == \"b\":   #subtraction\n",
    "    print(num1 - num2)\n",
    "elif Operator == \"c\":   #division\n",
    "    print(num1 / num2)\n",
    "elif Operator == \"d\":   #multiply\n",
    "    print(num1 * num2)\n",
    "elif Operator == \"e\":   #exponentiate\n",
    "    print(num1 ** num2)\n",
    "else:\n",
    "    print(\"Choose a valid operator\")"
   ]
  }
 ],
 "metadata": {
  "interpreter": {
   "hash": "1bd54135158e67f2b25c538cbf3866348208488fc0dd82563178f75525b7f203"
  },
  "kernelspec": {
   "display_name": "Python 3.9.9 64-bit (windows store)",
   "language": "python",
   "name": "python3"
  },
  "language_info": {
   "codemirror_mode": {
    "name": "ipython",
    "version": 3
   },
   "file_extension": ".py",
   "mimetype": "text/x-python",
   "name": "python",
   "nbconvert_exporter": "python",
   "pygments_lexer": "ipython3",
   "version": "3.9.9"
  },
  "orig_nbformat": 4
 },
 "nbformat": 4,
 "nbformat_minor": 2
}
