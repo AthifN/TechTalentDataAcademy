{
 "cells": [
  {
   "cell_type": "markdown",
   "metadata": {},
   "source": [
    "Create your own Flow Diagram, a subject of your own choice, Example: Fast food order and convert it into code."
   ]
  },
  {
   "cell_type": "code",
   "execution_count": null,
   "metadata": {},
   "outputs": [],
   "source": [
    "Items = ['Items', 'Burger', 'Pizza', 'Chips', 'Cola', 'Lemonade', 'Orange Juice']\n",
    "\n",
    "ItemNo =['Item No', '1', '2', '3', '4', '5', '6']\n",
    "\n",
    "for i in range(len(Items)):\n",
    "    print(Items[i] + '\\t' + ItemNo[i])\n",
    "\n",
    "order = int(input (\"Choose a menu item by typing in its item number\"))\n",
    "\n",
    "if order == 1:\n",
    "    chosenorder = 'Burger'\n",
    "elif order == 2:\n",
    "    chosenorder = 'Pizza'    \n",
    "elif order == 3:\n",
    "    chosenorder = 'Chips'\n",
    "elif order == 4:\n",
    "    chosenorder = 'Cola'\n",
    "elif order == 5:\n",
    "    chosenorder = 'Lemonade'    \n",
    "elif order == 6:\n",
    "    chosenorder = 'Orange Juice'\n",
    "else: print(\"Sorry, that's not a valid order.\")\n",
    "\n",
    "print(\"Your order is: \", chosenorder)\n",
    "\n",
    "confirm = input(\"Is this correct? Enter Y to confirm or N to start again.\")\n",
    "\n",
    "if confirm == 'N':\n",
    "    print(\"Please enter your order again\")\n",
    "elif confirm == 'Y':\n",
    "    print(\"Thank you for your order\")\n",
    "else: print(\"Sorry, your command isn't recognised.\")"
   ]
  },
  {
   "cell_type": "markdown",
   "metadata": {},
   "source": [
    "As an extension to the motorbike task that costs £2000 and loses 10% of its value every year. Set up a function that performs the calculation by passing in parameters. \n",
    "\n",
    "Then using a loop, print the value of the bike every following year until it falls below £1000"
   ]
  },
  {
   "cell_type": "code",
   "execution_count": null,
   "metadata": {},
   "outputs": [],
   "source": [
    "current_bike_val = 2000\n",
    "\n",
    "def new_bike_val(current_bike_val):\n",
    "    while current_bike_val >= 1000:\n",
    "        print (\"£\", current_bike_val)\n",
    "        current_bike_val -= current_bike_val*0.1\n",
    "\n",
    "print (new_bike_val(current_bike_val))   "
   ]
  },
  {
   "cell_type": "markdown",
   "metadata": {},
   "source": [
    "Write a program which will ask for two numbers from a user. Then offer an option menu to the user giving them a choice of maths operators. \n",
    "Once the user has selected which operator they wish to use, perform the calculation by using a procedure and passing parameters."
   ]
  },
  {
   "cell_type": "code",
   "execution_count": null,
   "metadata": {},
   "outputs": [],
   "source": [
    "Num1 = float(input(\"Type any number\"))\n",
    "Num2 = float(input(\"Type another number\"))\n",
    "Operator = input(\"Type any of following operators to perform a calculation: +, -, *, /\")\n",
    "\n",
    "\n",
    "def calc(Num1, Num2, Operator):\n",
    "    if Operator == '+':\n",
    "        print(Num1 + Num2)\n",
    "    elif Operator == '-':\n",
    "        print(Num1 - Num2)\n",
    "    elif Operator == '/':\n",
    "        print(Num1/Num2)\n",
    "    elif Operator == '*':\n",
    "        print(Num1*Num2)\n",
    "    else:\n",
    "        print(\"Choose a valid operator\")\n",
    "\n",
    "calc(Num1, Num2, Operator)"
   ]
  }
 ],
 "metadata": {
  "interpreter": {
   "hash": "1bd54135158e67f2b25c538cbf3866348208488fc0dd82563178f75525b7f203"
  },
  "kernelspec": {
   "display_name": "Python 3.9.9 64-bit (windows store)",
   "language": "python",
   "name": "python3"
  },
  "language_info": {
   "codemirror_mode": {
    "name": "ipython",
    "version": 3
   },
   "file_extension": ".py",
   "mimetype": "text/x-python",
   "name": "python",
   "nbconvert_exporter": "python",
   "pygments_lexer": "ipython3",
   "version": "3.9.9"
  },
  "orig_nbformat": 4
 },
 "nbformat": 4,
 "nbformat_minor": 2
}
